{
 "cells": [
  {
   "cell_type": "code",
   "id": "initial_id",
   "metadata": {
    "collapsed": true,
    "ExecuteTime": {
     "end_time": "2025-05-11T13:59:24.127796Z",
     "start_time": "2025-05-11T13:59:22.744085Z"
    }
   },
   "source": "from utils import *",
   "outputs": [],
   "execution_count": 1
  },
  {
   "metadata": {},
   "cell_type": "markdown",
   "source": [
    "# Load data\n",
    "\n",
    "943 users, 1682 movies.\n",
    "\n",
    "X is the features of movie.\n",
    "\n",
    "$\\theta$ is the parameters of user.\n",
    "\n",
    "Y is a num_movies $\\times$ num_users matrix, stores the ratings $y^{(i,j)}$ from 1 to 5.\n",
    "\n",
    "R is a binary-valued indicator matrix, R(i,j)=1 if user j gave a rating to movie i, and R(i,j)=0 otherwise."
   ],
   "id": "ad74023757786d27"
  },
  {
   "metadata": {
    "ExecuteTime": {
     "end_time": "2025-05-11T13:59:24.267625Z",
     "start_time": "2025-05-11T13:59:24.250874Z"
    }
   },
   "cell_type": "code",
   "source": [
    "movies_mat = loadmat('data/ex8_movies.mat')\n",
    "movies_mat.keys()"
   ],
   "id": "83dc3ab59c7be7dd",
   "outputs": [
    {
     "data": {
      "text/plain": [
       "dict_keys(['__header__', '__version__', '__globals__', 'Y', 'R'])"
      ]
     },
     "execution_count": 2,
     "metadata": {},
     "output_type": "execute_result"
    }
   ],
   "execution_count": 2
  },
  {
   "metadata": {
    "ExecuteTime": {
     "end_time": "2025-05-11T13:59:24.287835Z",
     "start_time": "2025-05-11T13:59:24.283087Z"
    }
   },
   "cell_type": "code",
   "source": [
    "Y, R = movies_mat['Y'], movies_mat['R']\n",
    "Y.shape, R.shape"
   ],
   "id": "b8f0447498c305f5",
   "outputs": [
    {
     "data": {
      "text/plain": [
       "((1682, 943), (1682, 943))"
      ]
     },
     "execution_count": 3,
     "metadata": {},
     "output_type": "execute_result"
    }
   ],
   "execution_count": 3
  },
  {
   "metadata": {
    "ExecuteTime": {
     "end_time": "2025-05-11T13:59:24.324976Z",
     "start_time": "2025-05-11T13:59:24.315500Z"
    }
   },
   "cell_type": "code",
   "source": [
    "param_mat = loadmat('data/ex8_movieParams.mat')\n",
    "param_mat.keys()"
   ],
   "id": "d21a1336c74624ff",
   "outputs": [
    {
     "data": {
      "text/plain": [
       "dict_keys(['__header__', '__version__', '__globals__', 'X', 'Theta', 'num_users', 'num_movies', 'num_features'])"
      ]
     },
     "execution_count": 4,
     "metadata": {},
     "output_type": "execute_result"
    }
   ],
   "execution_count": 4
  },
  {
   "metadata": {
    "ExecuteTime": {
     "end_time": "2025-05-11T13:59:24.348198Z",
     "start_time": "2025-05-11T13:59:24.344289Z"
    }
   },
   "cell_type": "code",
   "source": [
    "X, theta = param_mat['X'], param_mat['Theta']\n",
    "X.shape, theta.shape"
   ],
   "id": "93592c01a034a4de",
   "outputs": [
    {
     "data": {
      "text/plain": [
       "((1682, 10), (943, 10))"
      ]
     },
     "execution_count": 5,
     "metadata": {},
     "output_type": "execute_result"
    }
   ],
   "execution_count": 5
  },
  {
   "metadata": {
    "ExecuteTime": {
     "end_time": "2025-05-11T13:59:24.388089Z",
     "start_time": "2025-05-11T13:59:24.376253Z"
    }
   },
   "cell_type": "code",
   "source": [
    "movie_idx = {}\n",
    "with open('./data/movie_ids.txt', encoding='gbk') as f:\n",
    "    for line in f:\n",
    "        tokens = line.split(' ')\n",
    "        tokens[-1] = tokens[-1][:-1]\n",
    "        movie_idx[int(tokens[0]) - 1] = ' '.join(tokens[1:])\n",
    "\n",
    "movie_idx[0], len(movie_idx)"
   ],
   "id": "7ecef87000cb4287",
   "outputs": [
    {
     "data": {
      "text/plain": [
       "('Toy Story (1995)', 1682)"
      ]
     },
     "execution_count": 6,
     "metadata": {},
     "output_type": "execute_result"
    }
   ],
   "execution_count": 6
  },
  {
   "metadata": {},
   "cell_type": "markdown",
   "source": "# Cost Function",
   "id": "d5ba2a7dad591db0"
  },
  {
   "metadata": {
    "ExecuteTime": {
     "end_time": "2025-05-11T13:59:24.417179Z",
     "start_time": "2025-05-11T13:59:24.412859Z"
    }
   },
   "cell_type": "code",
   "source": [
    "def serialize(X, theta):\n",
    "    return np.concatenate((np.ravel(X), np.ravel(theta)))\n",
    "\n",
    "def deserialize(param, n_movie, n_user, n_feature):\n",
    "    return param[:n_movie * n_feature].reshape(n_movie, n_feature), \\\n",
    "            param[n_movie * n_feature:].reshape(n_user, n_feature)"
   ],
   "id": "72856fe86bf28cb3",
   "outputs": [],
   "execution_count": 7
  },
  {
   "metadata": {},
   "cell_type": "markdown",
   "source": [
    "\\begin{align*}\n",
    "J(x^{(1)},...,x^{(n_m)},\\theta^{(1)},...,\\theta^{(n_u)}) = \\frac{1}{2}\\sum_{(i,j):r(i,j)=1}\\left((\\theta^{(j)})^T x^{(i)} - y^{(i,j)}\\right)^2\n",
    "\\end{align*}"
   ],
   "id": "84205b7f916e32f3"
  },
  {
   "metadata": {
    "ExecuteTime": {
     "end_time": "2025-05-11T13:59:24.449369Z",
     "start_time": "2025-05-11T13:59:24.445676Z"
    }
   },
   "cell_type": "code",
   "source": [
    "def cost(param, Y, R, n_feature):\n",
    "    '''\n",
    "    X(movie, feature), (1682, 10)\n",
    "    theta(user, feature), (943, 10)\n",
    "    '''\n",
    "    movie_size, user_size = Y.shape\n",
    "    X, theta = deserialize(param, movie_size, user_size, n_feature)\n",
    "    error = (X @ theta.T - Y) * R\n",
    "    return (error ** 2).sum() / 2"
   ],
   "id": "69af743282e47d85",
   "outputs": [],
   "execution_count": 8
  },
  {
   "metadata": {},
   "cell_type": "markdown",
   "source": [
    "\n",
    "\\begin{align*}\n",
    "J(x^{(1)},...,x^{(n_m)},\\theta^{(1)},...,\\theta^{(n_u)}) =& \\frac{1}{2}\\sum_{(i,j):r(i,j)=1}\\left((\\theta^{(j)})^T x^{(i)} - y^{(i,j)}\\right)^2 \\\\\n",
    "&+ \\left(\\frac{\\lambda}{2}\\sum_{j=1}^{n_u}\\sum_{k=1}^n (\\theta_k^{(j)})^2\\right) \\\\\n",
    "&+ \\left(\\frac{\\lambda}{2}\\sum_{i=1}^{n_m}\\sum_{k=1}^n (x_k^{(i)})^2\\right).\n",
    "\\end{align*}\n"
   ],
   "id": "f6b93b1b31bbcf2c"
  },
  {
   "metadata": {
    "ExecuteTime": {
     "end_time": "2025-05-11T13:59:24.467679Z",
     "start_time": "2025-05-11T13:59:24.464402Z"
    }
   },
   "cell_type": "code",
   "source": [
    "def cost_reg(param, Y, R, n_feature, l = 1):\n",
    "    movie_size, user_size = Y.shape\n",
    "    X, theta = deserialize(param, movie_size, user_size, n_feature)\n",
    "    return cost(param, Y, R, n_feature) + (l / 2) * np.sum(X ** 2) + (l / 2) * np.sum(theta ** 2)"
   ],
   "id": "de99180984244b0d",
   "outputs": [],
   "execution_count": 9
  },
  {
   "metadata": {
    "ExecuteTime": {
     "end_time": "2025-05-11T13:59:24.517038Z",
     "start_time": "2025-05-11T13:59:24.488880Z"
    }
   },
   "cell_type": "code",
   "source": [
    "param = serialize(X, theta)\n",
    "cost(param, Y, R, 10), cost_reg(param, Y, R, 10, l=1)"
   ],
   "id": "83bd5d83edbd895a",
   "outputs": [
    {
     "data": {
      "text/plain": [
       "(np.float64(27918.64012454421), np.float64(32520.682450229557))"
      ]
     },
     "execution_count": 10,
     "metadata": {},
     "output_type": "execute_result"
    }
   ],
   "execution_count": 10
  },
  {
   "metadata": {},
   "cell_type": "markdown",
   "source": "# Gradient",
   "id": "92ed45785205f7d8"
  },
  {
   "metadata": {},
   "cell_type": "markdown",
   "source": [
    "\\begin{align*}\n",
    "\\frac{\\partial J}{\\partial x_k^{(i)}} &= \\sum_{j:r(i,j)=1} \\left( (\\theta^{(j)})^T x^{(i)} - y^{(i,j)} \\right) \\theta_k^{(j)} \\\\\n",
    "\\frac{\\partial J}{\\partial \\theta_k^{(j)}} &= \\sum_{i:r(i,j)=1} \\left( (\\theta^{(j)})^T x^{(i)} - y^{(i,j)} \\right) x_k^{(i)}\n",
    "\\end{align*}"
   ],
   "id": "20091492b0d37b1e"
  },
  {
   "metadata": {
    "ExecuteTime": {
     "end_time": "2025-05-11T13:59:24.540579Z",
     "start_time": "2025-05-11T13:59:24.536421Z"
    }
   },
   "cell_type": "code",
   "source": [
    "def gradient(param, Y, R, n_feature):\n",
    "    movies_size, user_size = Y.shape\n",
    "    X, theta = deserialize(param, movies_size, user_size, n_feature)\n",
    "\n",
    "    error = (X @ theta.T - Y) * R\n",
    "    X_grad = error @ theta\n",
    "    theta_grad = error.T @ X\n",
    "    return serialize(X_grad, theta_grad)"
   ],
   "id": "92275e767d4e8c4e",
   "outputs": [],
   "execution_count": 11
  },
  {
   "metadata": {},
   "cell_type": "markdown",
   "source": [
    "\\begin{align*}\n",
    "\\frac{\\partial J}{\\partial x_k^{(i)}} &= \\sum_{j:r(i,j)=1} \\left( (\\theta^{(j)})^T x^{(i)} - y^{(i,j)} \\right) \\theta_k^{(j)} + \\lambda x_k^{(i)} \\\\\n",
    "\\frac{\\partial J}{\\partial \\theta_k^{(j)}} &= \\sum_{i:r(i,j)=1} \\left( (\\theta^{(j)})^T x^{(i)} - y^{(i,j)} \\right) x_k^{(i)} + \\lambda \\theta_k^{(i)}\n",
    "\\end{align*}"
   ],
   "id": "6fd8414702b4f9d5"
  },
  {
   "metadata": {
    "ExecuteTime": {
     "end_time": "2025-05-11T13:59:24.588340Z",
     "start_time": "2025-05-11T13:59:24.584303Z"
    }
   },
   "cell_type": "code",
   "source": [
    "def gradient_reg(param, Y, R, n_feature, l=1):\n",
    "    return gradient(param, Y, R, n_feature) + l * param"
   ],
   "id": "2797415da563a0d8",
   "outputs": [],
   "execution_count": 12
  },
  {
   "metadata": {},
   "cell_type": "markdown",
   "source": [
    "# Add user\n",
    "我们将使用练习中提供的评分。"
   ],
   "id": "43cc95b113d3d916"
  },
  {
   "metadata": {
    "ExecuteTime": {
     "end_time": "2025-05-11T13:59:24.613473Z",
     "start_time": "2025-05-11T13:59:24.609136Z"
    }
   },
   "cell_type": "code",
   "source": [
    "ratings = np.zeros((1682, 1))\n",
    "\n",
    "ratings[0] = 4\n",
    "ratings[11] = 4\n",
    "ratings[21] = 1\n",
    "ratings[30] = 5\n",
    "ratings[35] = 4\n",
    "ratings[60] = 3\n",
    "ratings[76] = 4\n",
    "ratings[90] = 2\n",
    "ratings[110] = 5\n",
    "ratings[330] = 4"
   ],
   "id": "ef92b7c30e021471",
   "outputs": [],
   "execution_count": 13
  },
  {
   "metadata": {},
   "cell_type": "markdown",
   "source": "我们可以将自己的评级向量添加到现有数据集中以包含在模型中。",
   "id": "4a9851bcf50cec33"
  },
  {
   "metadata": {
    "ExecuteTime": {
     "end_time": "2025-05-11T13:59:24.646119Z",
     "start_time": "2025-05-11T13:59:24.638709Z"
    }
   },
   "cell_type": "code",
   "source": [
    "Y, R = movies_mat.get('Y'), movies_mat.get('R')\n",
    "Y = np.append(Y, ratings, axis=1)\n",
    "R = np.append(R, ratings != 0, axis=1)\n",
    "\n",
    "Y.shape, R.shape, ratings.shape"
   ],
   "id": "68ee368a64591168",
   "outputs": [
    {
     "data": {
      "text/plain": [
       "((1682, 944), (1682, 944), (1682, 1))"
      ]
     },
     "execution_count": 14,
     "metadata": {},
     "output_type": "execute_result"
    }
   ],
   "execution_count": 14
  },
  {
   "metadata": {},
   "cell_type": "markdown",
   "source": "我们不只是准备训练协同过滤模型。 我们只需要定义一些变量并对评级进行规一化。",
   "id": "4a225112eaf1bd87"
  },
  {
   "metadata": {
    "ExecuteTime": {
     "end_time": "2025-05-11T14:02:28.160501Z",
     "start_time": "2025-05-11T14:02:28.155182Z"
    }
   },
   "cell_type": "code",
   "source": [
    "movies_size, users_size = Y.shape\n",
    "features = 10\n",
    "learning_rate = 10\n",
    "\n",
    "X = np.random.random(size=(movies_size, features))\n",
    "theta = np.random.random(size=(users_size, features))\n",
    "params = serialize(X, theta)\n",
    "\n",
    "X.shape, theta.shape, params.shape"
   ],
   "id": "7579d3017297d3f8",
   "outputs": [
    {
     "data": {
      "text/plain": [
       "((1682, 10), (944, 10), (26260,))"
      ]
     },
     "execution_count": 24,
     "metadata": {},
     "output_type": "execute_result"
    }
   ],
   "execution_count": 24
  },
  {
   "metadata": {
    "ExecuteTime": {
     "end_time": "2025-05-11T14:02:28.904025Z",
     "start_time": "2025-05-11T14:02:28.894237Z"
    }
   },
   "cell_type": "code",
   "source": [
    "Y_norm = Y - Y.mean()\n",
    "Y.mean(), Y_norm.mean()"
   ],
   "id": "f0d37cd99eb36781",
   "outputs": [
    {
     "data": {
      "text/plain": [
       "(np.float64(0.22233292690300085), np.float64(7.503665804193807e-17))"
      ]
     },
     "execution_count": 25,
     "metadata": {},
     "output_type": "execute_result"
    }
   ],
   "execution_count": 25
  },
  {
   "metadata": {},
   "cell_type": "markdown",
   "source": "# Training",
   "id": "d8e1eb7d6e49a9d6"
  },
  {
   "metadata": {
    "ExecuteTime": {
     "end_time": "2025-05-11T14:02:53.387622Z",
     "start_time": "2025-05-11T14:02:29.245014Z"
    }
   },
   "cell_type": "code",
   "source": [
    "res = optimize.minimize(fun=cost_reg, x0=params, args=(Y_norm, R, features, learning_rate),\n",
    "                  method='TNC', jac=gradient_reg)\n",
    "res"
   ],
   "id": "6e8bd6ba18bb1cca",
   "outputs": [
    {
     "data": {
      "text/plain": [
       " message: Converged (|f_n-f_(n-1)| ~= 0)\n",
       " success: True\n",
       "  status: 1\n",
       "     fun: 69381.53935273514\n",
       "       x: [ 5.953e-01 -4.066e-01 ...  6.836e-01  4.152e-01]\n",
       "     nit: 62\n",
       "     jac: [ 5.590e-06  6.737e-06 ...  6.010e-07  4.320e-07]\n",
       "    nfev: 1482"
      ]
     },
     "execution_count": 26,
     "metadata": {},
     "output_type": "execute_result"
    }
   ],
   "execution_count": 26
  },
  {
   "metadata": {
    "ExecuteTime": {
     "end_time": "2025-05-11T14:03:21.772674Z",
     "start_time": "2025-05-11T14:03:21.768231Z"
    }
   },
   "cell_type": "code",
   "source": [
    "X_trained, theta_trained = deserialize(res.x, movies_size, users_size, features)\n",
    "X_trained.shape, theta_trained.shape"
   ],
   "id": "3e25133295f70a01",
   "outputs": [
    {
     "data": {
      "text/plain": [
       "((1682, 10), (944, 10))"
      ]
     },
     "execution_count": 27,
     "metadata": {},
     "output_type": "execute_result"
    }
   ],
   "execution_count": 27
  },
  {
   "metadata": {
    "ExecuteTime": {
     "end_time": "2025-05-11T14:03:30.011163Z",
     "start_time": "2025-05-11T14:03:29.995341Z"
    }
   },
   "cell_type": "code",
   "source": [
    "prediction = X_trained @ theta_trained.T\n",
    "user0_pred = prediction[:, 0] + Y.mean()\n",
    "top_idx = np.argsort(user0_pred)[::-1] # descending order\n",
    "top_idx.shape"
   ],
   "id": "cb1ee791fcfa57db",
   "outputs": [
    {
     "data": {
      "text/plain": [
       "(1682,)"
      ]
     },
     "execution_count": 28,
     "metadata": {},
     "output_type": "execute_result"
    }
   ],
   "execution_count": 28
  },
  {
   "metadata": {
    "ExecuteTime": {
     "end_time": "2025-05-11T14:03:34.055836Z",
     "start_time": "2025-05-11T14:03:34.051596Z"
    }
   },
   "cell_type": "code",
   "source": "user0_pred[top_idx][:10]",
   "id": "b4976a10b4c15157",
   "outputs": [
    {
     "data": {
      "text/plain": [
       "array([5.6963995 , 5.41540969, 5.38101216, 5.20402943, 5.16717062,\n",
       "       5.13165185, 5.12067357, 5.05166792, 5.03479017, 5.02821375])"
      ]
     },
     "execution_count": 29,
     "metadata": {},
     "output_type": "execute_result"
    }
   ],
   "execution_count": 29
  },
  {
   "metadata": {
    "ExecuteTime": {
     "end_time": "2025-05-11T14:05:19.858281Z",
     "start_time": "2025-05-11T14:05:19.854631Z"
    }
   },
   "cell_type": "code",
   "source": [
    "print('Top recommendations for you:')\n",
    "movie_list = np.array(movie_idx)\n",
    "for i in top_idx[:10]:\n",
    "    print('Prediction rating {:.2f} for movie {}'.format(user0_pred[i], movie_idx[i]))\n",
    "# for m in movie_list[top_idx][:10]:\n",
    "#     print(m)"
   ],
   "id": "a70ceee831b5ebcc",
   "outputs": [
    {
     "name": "stdout",
     "output_type": "stream",
     "text": [
      "Top recommendations for you:\n",
      "Prediction rating 5.70 for movie Star Wars (1977)\n",
      "Prediction rating 5.42 for movie Wrong Trousers, The (1993)\n",
      "Prediction rating 5.38 for movie Close Shave, A (1995)\n",
      "Prediction rating 5.20 for movie Empire Strikes Back, The (1980)\n",
      "Prediction rating 5.17 for movie Secrets & Lies (1996)\n",
      "Prediction rating 5.13 for movie Fargo (1996)\n",
      "Prediction rating 5.12 for movie Return of the Jedi (1983)\n",
      "Prediction rating 5.05 for movie Blade Runner (1982)\n",
      "Prediction rating 5.03 for movie Pulp Fiction (1994)\n",
      "Prediction rating 5.03 for movie Lawrence of Arabia (1962)\n"
     ]
    }
   ],
   "execution_count": 32
  }
 ],
 "metadata": {
  "kernelspec": {
   "display_name": "Python 3",
   "language": "python",
   "name": "python3"
  },
  "language_info": {
   "codemirror_mode": {
    "name": "ipython",
    "version": 2
   },
   "file_extension": ".py",
   "mimetype": "text/x-python",
   "name": "python",
   "nbconvert_exporter": "python",
   "pygments_lexer": "ipython2",
   "version": "2.7.6"
  }
 },
 "nbformat": 4,
 "nbformat_minor": 5
}
