{
 "cells": [
  {
   "cell_type": "markdown",
   "id": "571c92ddded34980",
   "metadata": {},
   "source": [
    "# Multi-class Classification"
   ]
  },
  {
   "cell_type": "markdown",
   "id": "5214439633ac7754",
   "metadata": {},
   "source": [
    "在这次作业中，将使用 one-vs-all logistic regression 和 neural networks 来识别手写数字"
   ]
  },
  {
   "cell_type": "code",
   "id": "cd20ebe729d9b725",
   "metadata": {
    "ExecuteTime": {
     "end_time": "2025-04-22T13:02:44.729648Z",
     "start_time": "2025-04-22T13:02:44.727094Z"
    }
   },
   "source": [
    "# 引入包\n",
    "import numpy as np\n",
    "import matplotlib.pyplot as plt\n",
    "import pandas as pd\n",
    "from numpy.ma.core import shape\n",
    "from scipy.io import loadmat"
   ],
   "outputs": [],
   "execution_count": 140
  },
  {
   "cell_type": "markdown",
   "id": "45e732103bdf436a",
   "metadata": {},
   "source": [
    "##  Dataset\n",
    "一共含有5000个训练样本。 每个数据都是20 * 20的灰度图。 每个像素(pixel)由一个浮点数表示，该浮点数表示该位置的灰度强度。 20 × 20 的像素网格被“展开”为400维向量。 每一个例子作为一个单独的行向量。 X 是一个5000 * 400 的矩阵，每行都是一个训练样本。\n",
    "\n",
    "$$\n",
    "X = \\begin{bmatrix}\n",
    " -{x^{(1)}}^T  \\\\\n",
    " -{x^{(2)}}^T  \\\\\n",
    " \\vdots        \\\\\n",
    "  -{x^{(m)}}^T\n",
    "\\end{bmatrix}\n",
    "$$"
   ]
  },
  {
   "cell_type": "markdown",
   "id": "e149f6674d09bf82",
   "metadata": {},
   "source": [
    "## Visualizing the data"
   ]
  },
  {
   "cell_type": "code",
   "id": "c8afa1ea56f3f5e2",
   "metadata": {
    "ExecuteTime": {
     "end_time": "2025-04-22T13:02:44.763323Z",
     "start_time": "2025-04-22T13:02:44.760499Z"
    }
   },
   "source": [
    "def load_data(path):\n",
    "    data = loadmat(path)\n",
    "    print(data)\n",
    "    X = data['X']\n",
    "    y = data['y']\n",
    "    print('X:',X)   # 图片\n",
    "    print('y:',y)   # 标签， 其中y会出现10是因为：\n",
    "                    #   1对应1 ... 9对应9， 0对应10\n",
    "    return X, y"
   ],
   "outputs": [],
   "execution_count": 141
  },
  {
   "cell_type": "code",
   "id": "12b5677bdbff21b7",
   "metadata": {
    "ExecuteTime": {
     "end_time": "2025-04-22T13:02:44.875499Z",
     "start_time": "2025-04-22T13:02:44.779894Z"
    }
   },
   "source": "X_raw, y_raw = load_data('ex3data1.mat')",
   "outputs": [
    {
     "name": "stdout",
     "output_type": "stream",
     "text": [
      "{'__header__': b'MATLAB 5.0 MAT-file, Platform: GLNXA64, Created on: Sun Oct 16 13:09:09 2011', '__version__': '1.0', '__globals__': [], 'X': array([[0., 0., 0., ..., 0., 0., 0.],\n",
      "       [0., 0., 0., ..., 0., 0., 0.],\n",
      "       [0., 0., 0., ..., 0., 0., 0.],\n",
      "       ...,\n",
      "       [0., 0., 0., ..., 0., 0., 0.],\n",
      "       [0., 0., 0., ..., 0., 0., 0.],\n",
      "       [0., 0., 0., ..., 0., 0., 0.]]), 'y': array([[10],\n",
      "       [10],\n",
      "       [10],\n",
      "       ...,\n",
      "       [ 9],\n",
      "       [ 9],\n",
      "       [ 9]], dtype=uint8)}\n",
      "X: [[0. 0. 0. ... 0. 0. 0.]\n",
      " [0. 0. 0. ... 0. 0. 0.]\n",
      " [0. 0. 0. ... 0. 0. 0.]\n",
      " ...\n",
      " [0. 0. 0. ... 0. 0. 0.]\n",
      " [0. 0. 0. ... 0. 0. 0.]\n",
      " [0. 0. 0. ... 0. 0. 0.]]\n",
      "y: [[10]\n",
      " [10]\n",
      " [10]\n",
      " ...\n",
      " [ 9]\n",
      " [ 9]\n",
      " [ 9]]\n"
     ]
    }
   ],
   "execution_count": 142
  },
  {
   "cell_type": "code",
   "id": "8aa2cccab9789172",
   "metadata": {
    "ExecuteTime": {
     "end_time": "2025-04-22T13:02:44.890172Z",
     "start_time": "2025-04-22T13:02:44.887Z"
    }
   },
   "source": "X_raw.shape, y_raw.shape",
   "outputs": [
    {
     "data": {
      "text/plain": [
       "((5000, 400), (5000, 1))"
      ]
     },
     "execution_count": 143,
     "metadata": {},
     "output_type": "execute_result"
    }
   ],
   "execution_count": 143
  },
  {
   "cell_type": "markdown",
   "id": "985510063dfefa0",
   "metadata": {},
   "source": [
    "测试一个图片\n"
   ]
  },
  {
   "cell_type": "code",
   "id": "cdaca918c7c13992",
   "metadata": {
    "ExecuteTime": {
     "end_time": "2025-04-22T13:02:44.909208Z",
     "start_time": "2025-04-22T13:02:44.906449Z"
    }
   },
   "source": [
    "def plot_an_image(image):\n",
    "    fig, ax = plt.subplots(figsize=(1, 1))\n",
    "    ax.matshow(image.reshape(20, 20), cmap='gray')\n",
    "    plt.xticks([]), plt.yticks([])\n",
    "    plt.show()"
   ],
   "outputs": [],
   "execution_count": 144
  },
  {
   "cell_type": "code",
   "id": "48b1eb70fc43b09",
   "metadata": {
    "ExecuteTime": {
     "end_time": "2025-04-22T13:02:44.947337Z",
     "start_time": "2025-04-22T13:02:44.929737Z"
    }
   },
   "source": [
    "random_one = np.random.randint(0,5000)\n",
    "plot_an_image(X_raw[random_one, :])\n",
    "print('this should be {}'.format(y_raw[random_one]))"
   ],
   "outputs": [
    {
     "data": {
      "text/plain": [
       "<Figure size 100x100 with 1 Axes>"
      ],
      "image/png": "[encoded data removed]"
     },
     "metadata": {},
     "output_type": "display_data"
    },
    {
     "name": "stdout",
     "output_type": "stream",
     "text": [
      "this should be [2]\n"
     ]
    }
   ],
   "execution_count": 145
  },
  {
   "cell_type": "markdown",
   "id": "6d4ba0580ebbb16e",
   "metadata": {},
   "source": [
    "## Vectorizing Logistic Regression\n",
    "\n",
    "using multiple one-vs-all logistic regression models to build a multi-class classifier."
   ]
  },
  {
   "cell_type": "markdown",
   "id": "ade899cdcd3801ae",
   "metadata": {},
   "source": [
    "### 数据准备"
   ]
  },
  {
   "metadata": {},
   "cell_type": "markdown",
   "source": "![Vectorized_Labels from https://github.com/Sanzo00](./20250422185853.png)",
   "id": "a78ee6a565e6c719"
  },
  {
   "metadata": {},
   "cell_type": "markdown",
   "source": [
    "我们的任务是实现 one vs all 全分类方法，其中具有k个不用类的标签就要有k个分类器，每个分类器在“类i”与“非类i”之间选择。\n",
    "将y进行向量化，从类标签转换为每个分类器的二进制值（类i or 非类i）。"
   ],
   "id": "f8c74bb842738fbb"
  },
  {
   "metadata": {
    "ExecuteTime": {
     "end_time": "2025-04-22T13:02:44.973447Z",
     "start_time": "2025-04-22T13:02:44.969766Z"
    }
   },
   "cell_type": "code",
   "source": [
    "label_num = np.unique(y_raw)\n",
    "label_num"
   ],
   "id": "decef0a33fb5fd7c",
   "outputs": [
    {
     "data": {
      "text/plain": [
       "array([ 1,  2,  3,  4,  5,  6,  7,  8,  9, 10], dtype=uint8)"
      ]
     },
     "execution_count": 146,
     "metadata": {},
     "output_type": "execute_result"
    }
   ],
   "execution_count": 146
  },
  {
   "metadata": {
    "ExecuteTime": {
     "end_time": "2025-04-22T13:02:45.006499Z",
     "start_time": "2025-04-22T13:02:45.003177Z"
    }
   },
   "cell_type": "code",
   "source": "y_raw",
   "id": "ae66be3acff0d252",
   "outputs": [
    {
     "data": {
      "text/plain": [
       "array([[10],\n",
       "       [10],\n",
       "       [10],\n",
       "       ...,\n",
       "       [ 9],\n",
       "       [ 9],\n",
       "       [ 9]], dtype=uint8)"
      ]
     },
     "execution_count": 147,
     "metadata": {},
     "output_type": "execute_result"
    }
   ],
   "execution_count": 147
  },
  {
   "metadata": {},
   "cell_type": "markdown",
   "source": "Note that the y argument to this function is a vector of labels from 1 to 10, where we have mapped the digit \\0\" to the label 10 (to avoid confusions with indexing).",
   "id": "bd606c013330ef2c"
  },
  {
   "metadata": {
    "ExecuteTime": {
     "end_time": "2025-04-22T13:02:45.091350Z",
     "start_time": "2025-04-22T13:02:45.058045Z"
    }
   },
   "cell_type": "code",
   "source": [
    "y = []\n",
    "for i in range(1, label_num.size + 1):\n",
    "    y.append([1 if label == i else 0 for label in y_raw])\n",
    "\n",
    "# 此时的y是 1 2 3 ... 9 0; 要把最后一行给移动到最上面，然后按序下移\n",
    "y = np.roll(np.array(y), shift=1, axis=0)\n",
    "\n",
    "y.shape"
   ],
   "id": "44fead8eae4c6435",
   "outputs": [
    {
     "data": {
      "text/plain": [
       "(10, 5000)"
      ]
     },
     "execution_count": 148,
     "metadata": {},
     "output_type": "execute_result"
    }
   ],
   "execution_count": 148
  },
  {
   "metadata": {
    "ExecuteTime": {
     "end_time": "2025-04-22T13:02:45.191451Z",
     "start_time": "2025-04-22T13:02:45.187881Z"
    }
   },
   "cell_type": "code",
   "source": "y",
   "id": "11b7e5fcfacc701d",
   "outputs": [
    {
     "data": {
      "text/plain": [
       "array([[1, 1, 1, ..., 0, 0, 0],\n",
       "       [0, 0, 0, ..., 0, 0, 0],\n",
       "       [0, 0, 0, ..., 0, 0, 0],\n",
       "       ...,\n",
       "       [0, 0, 0, ..., 0, 0, 0],\n",
       "       [0, 0, 0, ..., 0, 0, 0],\n",
       "       [0, 0, 0, ..., 1, 1, 1]])"
      ]
     },
     "execution_count": 149,
     "metadata": {},
     "output_type": "execute_result"
    }
   ],
   "execution_count": 149
  },
  {
   "metadata": {
    "ExecuteTime": {
     "end_time": "2025-04-22T13:02:45.262769Z",
     "start_time": "2025-04-22T13:02:45.258318Z"
    }
   },
   "cell_type": "code",
   "source": [
    "X = np.insert(X_raw, 0, np.ones(X_raw.shape[0]), axis=1)\n",
    "X.shape"
   ],
   "id": "212e7af8469e59ce",
   "outputs": [
    {
     "data": {
      "text/plain": [
       "(5000, 401)"
      ]
     },
     "execution_count": 150,
     "metadata": {},
     "output_type": "execute_result"
    }
   ],
   "execution_count": 150
  },
  {
   "cell_type": "markdown",
   "id": "d7ec628fdc4760d4",
   "metadata": {},
   "source": [
    "### Logistic Regression 的函数"
   ]
  },
  {
   "cell_type": "code",
   "id": "1e36919c6f06a895",
   "metadata": {
    "ExecuteTime": {
     "end_time": "2025-04-22T13:05:46.449987Z",
     "start_time": "2025-04-22T13:05:46.446887Z"
    }
   },
   "source": [
    "def sigmoid(x):\n",
    "    return 1 / (1 + np.exp(-x))\n",
    "\n",
    "def cost(theta, X, y):\n",
    "    h = sigmoid(X @ theta.T)\n",
    "\n",
    "    cost_positive = y * np.log(h)\n",
    "    cost_negative = (1 - y) * np.log(1 - h)\n",
    "\n",
    "    return - np.mean(cost_positive + cost_negative)\n",
    "\n",
    "def gradient(theta, X, y):\n",
    "    return X.T @ (sigmoid(X @ theta.T) - y) / len(X)"
   ],
   "outputs": [],
   "execution_count": 163
  },
  {
   "cell_type": "markdown",
   "id": "b0660b6dfe5d3cce",
   "metadata": {},
   "source": [
    "### Regularized Logistic Regression 的函数"
   ]
  },
  {
   "cell_type": "code",
   "id": "a43cdda26c9de389",
   "metadata": {
    "ExecuteTime": {
     "end_time": "2025-04-22T13:07:53.908474Z",
     "start_time": "2025-04-22T13:07:53.905402Z"
    }
   },
   "source": [
    "def cost_reg(theta, X, y, lambda_=1):\n",
    "    return cost(theta, X, y) + lambda_ / (2 * len(X)) * sum(theta[1:] ** 2)\n",
    "\n",
    "def gradient_reg(theta, X, y, lambda_=1):\n",
    "    reg = theta * lambda_ / len(X)\n",
    "    reg[0] = 0\n",
    "    return gradient(theta, X, y) + reg"
   ],
   "outputs": [],
   "execution_count": 167
  },
  {
   "cell_type": "code",
   "id": "7bcf023e0a02de26",
   "metadata": {
    "ExecuteTime": {
     "end_time": "2025-04-22T13:07:54.404887Z",
     "start_time": "2025-04-22T13:07:54.401545Z"
    }
   },
   "source": [
    "import scipy.optimize as opt\n",
    "\n",
    "def logistic_regression(X, y, lambda_=1):\n",
    "    theta = np.zeros(X.shape[1])\n",
    "    res = opt.minimize(fun = cost_reg, x0=theta, args=(X, y, lambda_), method='TNC', jac=gradient_reg, options={'disp': True})\n",
    "    return res.x"
   ],
   "outputs": [],
   "execution_count": 168
  },
  {
   "cell_type": "code",
   "id": "f73b6c75cd609370",
   "metadata": {
    "ExecuteTime": {
     "end_time": "2025-04-22T13:07:56.714255Z",
     "start_time": "2025-04-22T13:07:56.711774Z"
    }
   },
   "source": [
    "def predict(theta, X):\n",
    "    prob = sigmoid(X @ theta)\n",
    "    return (prob >= 0.5).astype(int)"
   ],
   "outputs": [],
   "execution_count": 169
  },
  {
   "cell_type": "markdown",
   "id": "d58793eabcb2c6ed",
   "metadata": {},
   "source": [
    "## 预测分析"
   ]
  },
  {
   "metadata": {},
   "cell_type": "markdown",
   "source": "### 训练1维",
   "id": "ab90fc0f437ef604"
  },
  {
   "cell_type": "code",
   "id": "1bacc9a96b3bbf89",
   "metadata": {
    "ExecuteTime": {
     "end_time": "2025-04-22T13:07:57.468871Z",
     "start_time": "2025-04-22T13:07:57.408516Z"
    }
   },
   "source": "theta_0 = logistic_regression(X, y[0])",
   "outputs": [
    {
     "name": "stderr",
     "output_type": "stream",
     "text": [
      "  NIT   NF   F                       GTG\n",
      "    0    1  6.931471805599454E-01   2.88474253E+00\n",
      "    1    6  7.682547361206926E-02   4.04825829E-03\n",
      "    2   16  3.249040729798806E-02   3.05111901E-04\n",
      "tnc: fscale = 57.2493\n",
      "    3   24  2.335425680275388E-02   4.04863529E-05\n",
      "    4   27  2.161762796987874E-02   6.01012422E-06\n",
      "    5   33  2.056839009526991E-02   1.33369216E-06\n",
      "    6   41  2.019073771363374E-02   2.09434797E-07\n",
      "tnc: fscale = 2185.12\n",
      "    7   49  2.015519767948559E-02   6.38170939E-08\n",
      "    8   59  2.014904461115180E-02   2.76315281E-09\n",
      "    9   68  2.014803419235399E-02   7.06847203E-10\n",
      "   10   77  2.014770111288744E-02   3.53577322E-10\n",
      "tnc: fscale = 53181.2\n",
      "   11   85  2.014756082366079E-02   1.02892820E-09\n",
      "   12   94  2.014754323000393E-02   7.11674487E-11\n",
      "tnc: |fn-fn-1] = 3.0964e-09 -> convergence\n",
      "   13  103  2.014754013360552E-02   1.27149190E-12\n",
      "tnc: Converged (|f_n-f_(n-1)| ~= 0)\n"
     ]
    }
   ],
   "execution_count": 170
  },
  {
   "cell_type": "code",
   "id": "6477e98ded5f66a1",
   "metadata": {
    "ExecuteTime": {
     "end_time": "2025-04-22T13:08:02.854974Z",
     "start_time": "2025-04-22T13:08:02.851531Z"
    }
   },
   "source": [
    "from sklearn.metrics import classification_report\n",
    "y_pred = predict(theta_0, X)\n",
    "print('Accurary = {}'.format(np.mean(y[0] == y_pred)))"
   ],
   "outputs": [
    {
     "name": "stdout",
     "output_type": "stream",
     "text": [
      "Accurary = 0.9974\n"
     ]
    }
   ],
   "execution_count": 171
  },
  {
   "metadata": {},
   "cell_type": "markdown",
   "source": "### 训练k维",
   "id": "7a3a0e46663c6e2f"
  },
  {
   "metadata": {
    "ExecuteTime": {
     "end_time": "2025-04-22T13:10:38.962192Z",
     "start_time": "2025-04-22T13:10:38.287901Z"
    }
   },
   "cell_type": "code",
   "source": [
    "theta_k = np.array([logistic_regression(X, y[k]) for k in range(label_num.size)])\n",
    "theta_k.shape"
   ],
   "id": "eee820359d708ab3",
   "outputs": [
    {
     "name": "stderr",
     "output_type": "stream",
     "text": [
      "  NIT   NF   F                       GTG\n",
      "    0    1  6.931471805599454E-01   2.88474253E+00\n",
      "    1    6  7.682547361206926E-02   4.04825829E-03\n",
      "    2   16  3.249040729798806E-02   3.05111901E-04\n",
      "tnc: fscale = 57.2493\n",
      "    3   24  2.335425680275388E-02   4.04863529E-05\n",
      "    4   27  2.161762796987874E-02   6.01012422E-06\n",
      "    5   33  2.056839009526991E-02   1.33369216E-06\n",
      "    6   41  2.019073771363374E-02   2.09434797E-07\n",
      "tnc: fscale = 2185.12\n",
      "    7   49  2.015519767948559E-02   6.38170939E-08\n",
      "    8   59  2.014904461115180E-02   2.76315281E-09\n",
      "    9   68  2.014803419235399E-02   7.06847203E-10\n",
      "   10   77  2.014770111288744E-02   3.53577322E-10\n",
      "tnc: fscale = 53181.2\n",
      "   11   85  2.014756082366079E-02   1.02892820E-09\n",
      "   12   94  2.014754323000393E-02   7.11674487E-11\n",
      "tnc: |fn-fn-1] = 3.0964e-09 -> convergence\n",
      "   13  103  2.014754013360552E-02   1.27149190E-12\n",
      "tnc: Converged (|f_n-f_(n-1)| ~= 0)\n",
      "  NIT   NF   F                       GTG\n",
      "    0    1  6.931471805599454E-01   3.58944746E+00\n",
      "    1    5  6.972032383632074E-02   6.33669800E-03\n",
      "    2   13  3.964381096075219E-02   4.56897432E-04\n",
      "tnc: fscale = 46.7833\n",
      "    3   20  3.265563587703543E-02   1.08083348E-04\n",
      "    4   30  2.794362259496269E-02   3.47749420E-05\n",
      "    5   34  2.733092392717743E-02   3.85031473E-06\n",
      "    6   43  2.698524783531478E-02   6.52895558E-07\n",
      "tnc: fscale = 1237.59\n",
      "    7   51  2.696360188788395E-02   3.59327250E-08\n",
      "    8   60  2.696045223592708E-02   7.67526812E-09\n",
      "    9   68  2.696013694399808E-02   6.60332441E-10\n",
      "tnc: fscale = 38915.1\n",
      "   10   76  2.696008171724532E-02   3.20661103E-11\n",
      "tnc: |fn-fn-1] = 3.51997e-09 -> convergence\n",
      "   11   82  2.696007819727623E-02   3.31801405E-12\n",
      "tnc: Converged (|f_n-f_(n-1)| ~= 0)\n",
      "  NIT   NF   F                       GTG\n",
      "    0    1  6.931471805599454E-01   2.98875449E+00\n",
      "    1    5  2.388467785851666E-01   5.86315933E-02\n",
      "    2   14  1.239969565277750E-01   1.07186457E-02\n",
      "    3   21  8.814438047189269E-02   2.84146388E-04\n",
      "tnc: fscale = 59.3238\n",
      "    4   31  7.350583358129871E-02   4.60314456E-05\n",
      "    5   42  6.915243440496553E-02   4.54626256E-06\n",
      "    6   50  6.857107723314386E-02   5.84092246E-07\n",
      "tnc: fscale = 1308.46\n",
      "    7   58  6.848946093274939E-02   1.20999808E-06\n",
      "    8   66  6.845130381187159E-02   3.35292185E-08\n",
      "    9   69  6.845039149826693E-02   4.32140662E-08\n",
      "   10   79  6.844380144574667E-02   3.58910811E-09\n",
      "   11   89  6.844269238923854E-02   2.32698888E-09\n",
      "   12   99  6.844225699379934E-02   5.63326628E-10\n",
      "tnc: fscale = 42132.8\n",
      "   13  107  6.844203382273482E-02   3.81009830E-09\n",
      "   14  117  6.844197085646703E-02   2.21033313E-10\n",
      "   15  136  6.844193197467024E-02   1.00471931E-10\n",
      "tnc: |fn-fn-1] = 5.80437e-09 -> convergence\n",
      "   16  145  6.844192617030280E-02   5.63221037E-11\n",
      "tnc: Converged (|f_n-f_(n-1)| ~= 0)\n",
      "  NIT   NF   F                       GTG\n",
      "    0    1  6.931471805599454E-01   2.97791427E+00\n",
      "    1    5  2.541599310173647E-01   5.51224243E-02\n",
      "    2   13  1.353677525820993E-01   7.20090139E-03\n",
      "    3   16  1.248814869333319E-01   1.83347362E-03\n",
      "tnc: fscale = 23.3541\n",
      "    4   23  8.792230861714861E-02   9.49592599E-04\n",
      "    5   30  7.653251346086097E-02   3.10729700E-05\n",
      "    6   38  7.289878882081374E-02   1.24974651E-05\n",
      "    7   47  7.196555867260451E-02   1.28859488E-06\n",
      "tnc: fscale = 880.931\n",
      "    8   55  7.180797513750559E-02   4.16764359E-07\n",
      "    9   64  7.172668349922248E-02   6.96017596E-07\n",
      "   10   73  7.171282346707532E-02   5.71399446E-08\n",
      "   11   82  7.170825594869196E-02   2.21572204E-08\n",
      "   12   90  7.170697332072788E-02   1.07798131E-08\n",
      "   13   98  7.170642913201455E-02   1.02345692E-08\n",
      "   14  107  7.170611861849036E-02   1.91345066E-09\n",
      "tnc: fscale = 22860.8\n",
      "   15  115  7.170592843419930E-02   3.24810412E-09\n",
      "   16  124  7.170589037860280E-02   9.34508841E-11\n",
      "   17  134  7.170587268665135E-02   1.76620381E-10\n",
      "tnc: |fn-fn-1] = 8.4297e-09 -> convergence\n",
      "   18  143  7.170586425695560E-02   2.32848387E-11\n",
      "tnc: Converged (|f_n-f_(n-1)| ~= 0)\n",
      "  NIT   NF   F                       GTG\n",
      "    0    1  6.931471805599454E-01   3.20205786E+00\n",
      "    1    5  2.111747541818122E-01   5.88140551E-02\n",
      "    2   14  1.081235462048922E-01   5.90733039E-03\n",
      "    3   17  9.448441277317426E-02   3.00480265E-03\n",
      "    4   24  6.733853908595211E-02   6.10799306E-04\n",
      "tnc: fscale = 40.4623\n",
      "    5   33  5.614791543133188E-02   8.70595273E-05\n",
      "    6   41  5.292333992577181E-02   5.95677638E-05\n",
      "    7   48  5.220136020209736E-02   1.17421355E-06\n",
      "tnc: fscale = 922.84\n",
      "    8   56  5.208749093219611E-02   7.89533305E-07\n",
      "    9   64  5.205561619613844E-02   1.75015408E-08\n",
      "   10   67  5.205463127573633E-02   3.36650865E-08\n",
      "   11   77  5.205127338837891E-02   1.85953102E-09\n",
      "tnc: fscale = 23189.9\n",
      "   12   85  5.205049895231106E-02   4.61806827E-09\n",
      "   13   94  5.205031281697232E-02   1.68805351E-10\n",
      "   14  105  5.205026161110607E-02   2.56993025E-10\n",
      "tnc: |fn-fn-1] = 1.25752e-08 -> convergence\n",
      "   15  115  5.205024903587526E-02   1.48177215E-11\n",
      "tnc: Converged (|f_n-f_(n-1)| ~= 0)\n",
      "  NIT   NF   F                       GTG\n",
      "    0    1  6.931471805599454E-01   3.12332657E+00\n",
      "    1    4  2.908429933634036E-01   1.57336613E-01\n",
      "    2    8  1.890009842860099E-01   3.92943138E-02\n",
      "    3   16  1.213388082826704E-01   9.10208352E-03\n",
      "    4   19  1.159461806254470E-01   3.13632561E-04\n",
      "tnc: fscale = 56.4663\n",
      "    5   27  8.726069443399803E-02   2.49254227E-04\n",
      "    6   32  8.137302731669444E-02   5.31854098E-05\n",
      "    7   41  7.760754095465137E-02   2.88620301E-05\n",
      "    8   50  7.698404228483711E-02   1.83035252E-06\n",
      "    9   58  7.689042266533552E-02   3.41304673E-07\n",
      "tnc: fscale = 1711.7\n",
      "   10   67  7.686783446692545E-02   4.47815219E-08\n",
      "   11   70  7.686616180750150E-02   1.61871326E-07\n",
      "   12   78  7.686150164163630E-02   1.12948001E-08\n",
      "   13   82  7.686090482653549E-02   1.90982421E-08\n",
      "   14   91  7.685911277365785E-02   1.86222232E-08\n",
      "   15  100  7.685852602933882E-02   1.02741774E-08\n",
      "   16  111  7.685824841072686E-02   3.97438808E-10\n",
      "tnc: fscale = 50160.8\n",
      "   17  119  7.685817360448123E-02   2.53507317E-09\n",
      "   18  131  7.685814588277089E-02   3.10266172E-11\n",
      "tnc: |fn-fn-1] = 7.17232e-09 -> convergence\n",
      "   19  141  7.685813871044951E-02   1.08122325E-10\n",
      "tnc: Converged (|f_n-f_(n-1)| ~= 0)\n",
      "  NIT   NF   F                       GTG\n",
      "    0    1  6.931471805599454E-01   3.05414573E+00\n",
      "    1    5  1.117487043587181E-01   1.33287342E-02\n",
      "    2   14  6.164109382673784E-02   1.82613791E-03\n",
      "tnc: fscale = 23.4009\n",
      "    3   22  4.244546994116117E-02   3.20644820E-04\n",
      "    4   30  3.605699856826991E-02   4.44493422E-05\n",
      "    5   38  3.496693269648275E-02   3.44880050E-06\n",
      "tnc: fscale = 538.476\n",
      "    6   46  3.483046684228614E-02   9.30985833E-07\n",
      "    7   54  3.479016955974209E-02   4.94411571E-08\n",
      "    8   62  3.478723589576335E-02   1.03183887E-08\n",
      "    9   71  3.478650549656398E-02   8.92410267E-10\n",
      "tnc: fscale = 33474.8\n",
      "   10   79  3.478617343754740E-02   1.05265814E-09\n",
      "   11   88  3.478613918231176E-02   1.86051761E-11\n",
      "tnc: |fn-fn-1] = 1.21941e-09 -> convergence\n",
      "   12   91  3.478613796289966E-02   3.10396452E-11\n",
      "tnc: Converged (|f_n-f_(n-1)| ~= 0)\n",
      "  NIT   NF   F                       GTG\n",
      "    0    1  6.931471805599454E-01   3.25413052E+00\n",
      "    1    5  1.360074054728835E-01   1.66971381E-02\n",
      "    2   14  7.449354834111251E-02   2.86330742E-03\n",
      "    3   17  6.783060990697437E-02   1.54334935E-04\n",
      "tnc: fscale = 80.4948\n",
      "    4   25  5.501551598094370E-02   5.69629849E-04\n",
      "    5   33  4.825949975483742E-02   7.02331517E-05\n",
      "    6   38  4.730111301046618E-02   3.46891572E-06\n",
      "    7   41  4.718977475238333E-02   3.08602360E-06\n",
      "    8   48  4.679544630046348E-02   2.33853193E-07\n",
      "tnc: fscale = 2067.89\n",
      "    9   57  4.673915155028676E-02   6.64329364E-08\n",
      "   10   65  4.672881545650953E-02   1.00585188E-08\n",
      "   11   68  4.672832703251313E-02   1.96039436E-08\n",
      "   12   77  4.672540488406350E-02   1.63483351E-08\n",
      "   13   85  4.672472495831544E-02   1.36096709E-09\n",
      "   14   94  4.672447821586503E-02   4.80577753E-09\n",
      "   15  103  4.672438803810937E-02   9.96719674E-11\n",
      "tnc: fscale = 100164\n",
      "   16  111  4.672434722938251E-02   4.84431684E-10\n",
      "tnc: |fn-fn-1] = 8.795e-09 -> convergence\n",
      "   17  122  4.672433843438603E-02   1.69202758E-11\n",
      "tnc: Converged (|f_n-f_(n-1)| ~= 0)\n",
      "  NIT   NF   F                       GTG\n",
      "    0    1  6.931471805599454E-01   2.81150865E+00\n",
      "    1    6  2.575003037900149E-01   6.99144024E-02\n",
      "    2   17  1.439473990032147E-01   3.92178719E-03\n",
      "    3   24  1.095053872282608E-01   3.77240670E-04\n",
      "tnc: fscale = 51.4862\n",
      "    4   35  9.755731250191309E-02   4.10631758E-04\n",
      "    5   41  9.417917226661174E-02   1.74183472E-05\n",
      "    6   50  9.313531935652547E-02   3.83256861E-06\n",
      "    7   59  9.284981194629138E-02   5.15410503E-07\n",
      "tnc: fscale = 1392.91\n",
      "    8   67  9.279233820527770E-02   5.89619641E-07\n",
      "    9   77  9.276472715778769E-02   1.57617449E-07\n",
      "   10   87  9.275232394651022E-02   1.82138221E-08\n",
      "   11   97  9.274839252365168E-02   1.77765733E-08\n",
      "   12  106  9.274722727151363E-02   8.13903579E-09\n",
      "   13  115  9.274671567333799E-02   4.01728251E-09\n",
      "   14  124  9.274638363906161E-02   3.74419707E-09\n",
      "   15  139  9.274605157311282E-02   2.51786339E-09\n",
      "   16  152  9.274597518034736E-02   6.82069922E-10\n",
      "tnc: fscale = 38290\n",
      "   17  160  9.274595417585885E-02   1.30595438E-10\n",
      "tnc: |fn-fn-1] = 9.64167e-09 -> convergence\n",
      "   18  177  9.274594453418560E-02   5.70483816E-11\n",
      "tnc: Converged (|f_n-f_(n-1)| ~= 0)\n",
      "  NIT   NF   F                       GTG\n",
      "    0    1  6.931471805599454E-01   3.07109822E+00\n",
      "    1    4  3.000911579641070E-01   1.64755736E-01\n",
      "    2    9  1.784413065569783E-01   4.97692985E-02\n",
      "    3   13  1.223041235814961E-01   1.16355002E-03\n",
      "tnc: fscale = 29.3162\n",
      "    4   22  9.904889540192484E-02   9.17922364E-04\n",
      "    5   30  9.190439718100819E-02   1.37830652E-04\n",
      "    6   38  9.001271319490138E-02   7.76367734E-05\n",
      "    7   47  8.944363782859620E-02   1.66386091E-06\n",
      "tnc: fscale = 775.249\n",
      "    8   55  8.935449826606282E-02   7.82925248E-07\n",
      "    9   65  8.932277124605591E-02   7.53459151E-08\n",
      "   10   74  8.931571588134081E-02   1.03378108E-07\n",
      "   11   83  8.931271392835508E-02   4.25406777E-08\n",
      "   12   93  8.931148759418582E-02   2.62600761E-09\n",
      "tnc: fscale = 19514.3\n",
      "   13   96  8.931142128917985E-02   2.66102397E-09\n",
      "   14  107  8.931104364642251E-02   1.09452521E-09\n",
      "   15  117  8.931080923429505E-02   5.00661397E-09\n",
      "   16  127  8.931070788312810E-02   2.01249409E-09\n",
      "   17  137  8.931065317933301E-02   1.59555374E-10\n",
      "   18  147  8.931062101678371E-02   1.83525781E-10\n",
      "   19  164  8.931059445372808E-02   1.60948284E-11\n",
      "tnc: |fn-fn-1] = 6.05898e-10 -> convergence\n",
      "   20  167  8.931059384782977E-02   2.27913240E-11\n",
      "tnc: Converged (|f_n-f_(n-1)| ~= 0)\n"
     ]
    },
    {
     "data": {
      "text/plain": [
       "(10, 401)"
      ]
     },
     "execution_count": 175,
     "metadata": {},
     "output_type": "execute_result"
    }
   ],
   "execution_count": 175
  },
  {
   "metadata": {
    "ExecuteTime": {
     "end_time": "2025-04-22T13:13:03.973688Z",
     "start_time": "2025-04-22T13:13:03.968149Z"
    }
   },
   "cell_type": "code",
   "source": [
    "prob_matrix = sigmoid(X @ theta_k.T)\n",
    "np.set_printoptions(suppress=True)  # 抑制科学计数法,强制使用定点小数格式\n",
    "prob_matrix"
   ],
   "id": "2b53901d6c9497df",
   "outputs": [
    {
     "data": {
      "text/plain": [
       "array([[0.99577475, 0.        , 0.00053487, ..., 0.00006469, 0.00003911,\n",
       "        0.00172233],\n",
       "       [0.99834684, 0.0000001 , 0.00005606, ..., 0.0000968 , 0.0000029 ,\n",
       "        0.00008493],\n",
       "       [0.99139745, 0.        , 0.00056857, ..., 0.00000655, 0.02652476,\n",
       "        0.00197492],\n",
       "       ...,\n",
       "       [0.00000068, 0.04138112, 0.00320788, ..., 0.00012715, 0.00297529,\n",
       "        0.70773894],\n",
       "       [0.00001843, 0.00000013, 0.00000009, ..., 0.0016482 , 0.06818171,\n",
       "        0.86123389],\n",
       "       [0.02879765, 0.        , 0.00012982, ..., 0.36615316, 0.00497954,\n",
       "        0.14825668]])"
      ]
     },
     "execution_count": 177,
     "metadata": {},
     "output_type": "execute_result"
    }
   ],
   "execution_count": 177
  },
  {
   "metadata": {
    "ExecuteTime": {
     "end_time": "2025-04-22T13:14:08.215622Z",
     "start_time": "2025-04-22T13:14:08.210522Z"
    }
   },
   "cell_type": "code",
   "source": [
    "y_pred = np.argmax(prob_matrix, axis=1) # 返回每行最大的列索引\n",
    "y_pred = np.array([10 if i == 0 else i for i in y_pred])\n",
    "y_pred"
   ],
   "id": "58283e7ce9e5bcda",
   "outputs": [
    {
     "data": {
      "text/plain": [
       "array([10, 10, 10, ...,  9,  9,  7])"
      ]
     },
     "execution_count": 178,
     "metadata": {},
     "output_type": "execute_result"
    }
   ],
   "execution_count": 178
  },
  {
   "metadata": {
    "ExecuteTime": {
     "end_time": "2025-04-22T13:14:18.501416Z",
     "start_time": "2025-04-22T13:14:18.493273Z"
    }
   },
   "cell_type": "code",
   "source": "print(classification_report(y_raw, y_pred))",
   "id": "1828b87d5e513f8b",
   "outputs": [
    {
     "name": "stdout",
     "output_type": "stream",
     "text": [
      "              precision    recall  f1-score   support\n",
      "\n",
      "           1       0.95      0.99      0.97       500\n",
      "           2       0.95      0.92      0.93       500\n",
      "           3       0.95      0.91      0.93       500\n",
      "           4       0.95      0.95      0.95       500\n",
      "           5       0.92      0.92      0.92       500\n",
      "           6       0.97      0.98      0.97       500\n",
      "           7       0.95      0.95      0.95       500\n",
      "           8       0.93      0.92      0.92       500\n",
      "           9       0.92      0.92      0.92       500\n",
      "          10       0.97      0.99      0.98       500\n",
      "\n",
      "    accuracy                           0.94      5000\n",
      "   macro avg       0.94      0.94      0.94      5000\n",
      "weighted avg       0.94      0.94      0.94      5000\n",
      "\n"
     ]
    }
   ],
   "execution_count": 180
  }
 ],
 "metadata": {
  "kernelspec": {
   "display_name": "Python 3 (ipykernel)",
   "language": "python",
   "name": "python3"
  },
  "language_info": {
   "codemirror_mode": {
    "name": "ipython",
    "version": 3
   },
   "file_extension": ".py",
   "mimetype": "text/x-python",
   "name": "python",
   "nbconvert_exporter": "python",
   "pygments_lexer": "ipython3",
   "version": "3.10.16"
  }
 },
 "nbformat": 4,
 "nbformat_minor": 5
}
