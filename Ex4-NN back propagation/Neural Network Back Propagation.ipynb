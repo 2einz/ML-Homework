{
 "cells": [
  {
   "metadata": {},
   "cell_type": "markdown",
   "source": "# Neural Network back propagation",
   "id": "e36950729e111ff1"
  },
  {
   "metadata": {},
   "cell_type": "markdown",
   "source": [
    "**神经网络反向传播**\n",
    "\n",
    "上次通过分类的one vs all的方法实现了，对每一个label都训练了一个逻辑回归。\n",
    "\n",
    "这次将使用反向传播的前馈神经网络\n",
    "- 通过反向传播算法实现神经网络成本函数和梯度计算的非正则化和正则化版本\n",
    "- 实现随即权重初始化和使用网络进行预测的方法"
   ],
   "id": "70a5ea4cecfa05f7"
  },
  {
   "metadata": {
    "ExecuteTime": {
     "end_time": "2025-04-25T06:22:55.006020Z",
     "start_time": "2025-04-25T06:22:55.002488Z"
    }
   },
   "cell_type": "code",
   "source": [
    "import numpy as np\n",
    "import pandas as pd\n",
    "import matplotlib.pyplot as plt\n",
    "from scipy.io import loadmat\n"
   ],
   "id": "8a9ec6e5639be83b",
   "outputs": [],
   "execution_count": 47
  },
  {
   "metadata": {},
   "cell_type": "markdown",
   "source": "## Visualizing the data",
   "id": "5b6f35ffc83b717e"
  },
  {
   "metadata": {
    "ExecuteTime": {
     "end_time": "2025-04-25T05:42:10.084446Z",
     "start_time": "2025-04-25T05:42:10.081727Z"
    }
   },
   "cell_type": "code",
   "source": [
    "def load_data(path):\n",
    "    data = loadmat(path)\n",
    "    X = data['X']\n",
    "    y = data['y']\n",
    "\n",
    "    return X, y"
   ],
   "id": "fdf3b265131ead36",
   "outputs": [],
   "execution_count": 2
  },
  {
   "metadata": {
    "ExecuteTime": {
     "end_time": "2025-04-25T05:42:10.207366Z",
     "start_time": "2025-04-25T05:42:10.094729Z"
    }
   },
   "cell_type": "code",
   "source": [
    "# load Data\n",
    "X_raw, y_raw = load_data('ex4data1.mat')\n",
    "X_raw.shape, y_raw.shape"
   ],
   "id": "7f8a5f4e985becfc",
   "outputs": [
    {
     "data": {
      "text/plain": [
       "((5000, 400), (5000, 1))"
      ]
     },
     "execution_count": 3,
     "metadata": {},
     "output_type": "execute_result"
    }
   ],
   "execution_count": 3
  },
  {
   "metadata": {
    "ExecuteTime": {
     "end_time": "2025-04-25T05:42:10.231364Z",
     "start_time": "2025-04-25T05:42:10.227083Z"
    }
   },
   "cell_type": "code",
   "source": [
    "def plot_image(X):\n",
    "    sz = int(np.sqrt(X.shape[1]))\n",
    "    sample_idx = np.random.choice(np.arange(X.shape[0]), 100)\n",
    "    sample_images = X[sample_idx, :]\n",
    "\n",
    "    row,col = 5, 5\n",
    "\n",
    "    fig, axs = plt.subplots(nrows=row, ncols=col, sharey=True, sharex=True,\n",
    "                            figsize=(5,5))\n",
    "    for r in range(row):\n",
    "        for c in range(col):\n",
    "            axs[r, c].matshow(sample_images[10 * r + c].reshape((sz, sz)),\n",
    "                              cmap='binary')\n",
    "    plt.xticks(np.array([]))\n",
    "    plt.yticks(np.array([]))\n",
    "    plt.show()"
   ],
   "id": "1fca40d2422eeee9",
   "outputs": [],
   "execution_count": 4
  },
  {
   "metadata": {
    "ExecuteTime": {
     "end_time": "2025-04-25T05:42:10.669277Z",
     "start_time": "2025-04-25T05:42:10.263086Z"
    }
   },
   "cell_type": "code",
   "source": "plot_image(X_raw)",
   "id": "e6e731520bcf1508",
   "outputs": [
    {
     "data": {
      "text/plain": [
       "<Figure size 500x500 with 25 Axes>"
      ],
      "image/png": "[encoded data removed]"
     },
     "metadata": {},
     "output_type": "display_data"
    }
   ],
   "execution_count": 5
  },
  {
   "metadata": {},
   "cell_type": "markdown",
   "source": "我们要为此联系构建的神经网络具有与我们的实例数据(400+偏置单元)大小匹配的输入层，25个单元的隐藏层（带有偏置单元的26个)，以及一个输出层。10个单位对应我们的一个one-hot编码类标签。",
   "id": "e9edc82fb5512ca1"
  },
  {
   "metadata": {},
   "cell_type": "markdown",
   "source": [
    "对y标签进行[Ont-Hot Encoding](https://zhuanlan.zhihu.com/p/134495345)。\n",
    "\n",
    "One-Hot Encoding 简而言之将类标签n(k类)转换为长度为k的向量，其中索引n为 `hot(1)`,其余为0"
   ],
   "id": "f3945c380323ee8"
  },
  {
   "metadata": {
    "ExecuteTime": {
     "end_time": "2025-04-25T05:42:10.955592Z",
     "start_time": "2025-04-25T05:42:10.683068Z"
    }
   },
   "cell_type": "code",
   "source": [
    "from sklearn.preprocessing import OneHotEncoder\n",
    "\n",
    "def one_hot_encoding(y):\n",
    "    encoder = OneHotEncoder(sparse_output=False)\n",
    "\n",
    "    y_onehot = encoder.fit_transform(y)\n",
    "    return y_onehot"
   ],
   "id": "7583978e2c103699",
   "outputs": [],
   "execution_count": 6
  },
  {
   "metadata": {
    "ExecuteTime": {
     "end_time": "2025-04-25T05:42:10.973015Z",
     "start_time": "2025-04-25T05:42:10.967578Z"
    }
   },
   "cell_type": "code",
   "source": [
    "X = X_raw\n",
    "y = one_hot_encoding(y_raw)\n",
    "y_raw.shape, y.shape"
   ],
   "id": "768e850f10ccba1e",
   "outputs": [
    {
     "data": {
      "text/plain": [
       "((5000, 1), (5000, 10))"
      ]
     },
     "execution_count": 7,
     "metadata": {},
     "output_type": "execute_result"
    }
   ],
   "execution_count": 7
  },
  {
   "metadata": {
    "ExecuteTime": {
     "end_time": "2025-04-25T05:42:11.006003Z",
     "start_time": "2025-04-25T05:42:11.001776Z"
    }
   },
   "cell_type": "code",
   "source": "X",
   "id": "17cbc26ee4534398",
   "outputs": [
    {
     "data": {
      "text/plain": [
       "array([[0., 0., 0., ..., 0., 0., 0.],\n",
       "       [0., 0., 0., ..., 0., 0., 0.],\n",
       "       [0., 0., 0., ..., 0., 0., 0.],\n",
       "       ...,\n",
       "       [0., 0., 0., ..., 0., 0., 0.],\n",
       "       [0., 0., 0., ..., 0., 0., 0.],\n",
       "       [0., 0., 0., ..., 0., 0., 0.]])"
      ]
     },
     "execution_count": 8,
     "metadata": {},
     "output_type": "execute_result"
    }
   ],
   "execution_count": 8
  },
  {
   "metadata": {},
   "cell_type": "markdown",
   "source": [
    "## Feedforward 前向传播\n",
    "\n",
    "已经给出训练得到的$\\theta_1,\\theta_2$，通过前向传播计算得到预测结果"
   ],
   "id": "c1b449f3b99f77ff"
  },
  {
   "metadata": {},
   "cell_type": "markdown",
   "source": [
    "### 前向传播函数\n",
    "\n",
    "$$(400 + 1) \\rightarrow (25 + 1) \\rightarrow (10)$$\n",
    "\n",
    "<img src=\"img.png\" style=\"margin:auto\">"
   ],
   "id": "df012fa6ae8a0fb2"
  },
  {
   "metadata": {},
   "cell_type": "markdown",
   "source": [
    "a1 (N, input_s + 1)\n",
    "\n",
    "theta1 (hidden_s, input_s + 1)\n",
    "\n",
    "z2 (N, hidden_s)\n",
    "\n",
    "a2 (N, hidden_s + 1)\n",
    "\n",
    "theta2 (n_label = 10, hidden_s + 1)\n",
    "\n",
    "z3 (N, n_label=10)"
   ],
   "id": "7f321288216f40d"
  },
  {
   "metadata": {},
   "cell_type": "markdown",
   "source": [
    "$$\n",
    "z^2 = a_1 {\\theta^1}^T\n",
    "$$\n",
    "$$\n",
    "a^1\\stackrel{\\theta^1}{\\rightarrow}\\ z^2 \\stackrel{sigmoid}{\\rightarrow} a^2 \\stackrel{\\theta^2}{\\rightarrow}\\ z^3 \\stackrel{sigmoid}{\\rightarrow} h\n",
    "$$"
   ],
   "id": "4153fff6d89010ff"
  },
  {
   "metadata": {},
   "cell_type": "markdown",
   "source": "#### 载入$\\Theta$",
   "id": "d68f5c8c1d043959"
  },
  {
   "metadata": {
    "ExecuteTime": {
     "end_time": "2025-04-25T05:42:11.064663Z",
     "start_time": "2025-04-25T05:42:11.061658Z"
    }
   },
   "cell_type": "code",
   "source": [
    "# load weight\n",
    "def load_weigth(path):\n",
    "    data = loadmat(path)\n",
    "    return data['Theta1'], data['Theta2']"
   ],
   "id": "a9b16214d6b1aef2",
   "outputs": [],
   "execution_count": 9
  },
  {
   "metadata": {
    "ExecuteTime": {
     "end_time": "2025-04-25T05:42:11.199234Z",
     "start_time": "2025-04-25T05:42:11.192820Z"
    }
   },
   "cell_type": "code",
   "source": [
    "t1, t2 = load_weigth('ex4weights.mat')\n",
    "t1.shape, t2.shape"
   ],
   "id": "857b1e50c75452f1",
   "outputs": [
    {
     "data": {
      "text/plain": [
       "((25, 401), (10, 26))"
      ]
     },
     "execution_count": 10,
     "metadata": {},
     "output_type": "execute_result"
    }
   ],
   "execution_count": 10
  },
  {
   "metadata": {},
   "cell_type": "markdown",
   "source": "#### Function forward_propagation",
   "id": "6e65be1dfb1f32be"
  },
  {
   "metadata": {
    "ExecuteTime": {
     "end_time": "2025-04-25T05:42:11.726087Z",
     "start_time": "2025-04-25T05:42:11.721198Z"
    }
   },
   "cell_type": "code",
   "source": [
    "def sigmoid(z):\n",
    "    return 1 / (1 + np.exp(-z))\n",
    "\n",
    "def serialize(theta1, theta2):\n",
    "    return np.concatenate([theta1.ravel(), theta2.ravel()])\n",
    "\n",
    "def deserialized(ser, input_size=400, hidden_size=25, label_size=10):\n",
    "    size = (input_size + 1) * hidden_size\n",
    "    return (ser[:size].reshape(hidden_size, input_size + 1),\n",
    "            ser[size:].reshape(label_size, hidden_size + 1))"
   ],
   "id": "d6fc3e7d673fd9a1",
   "outputs": [],
   "execution_count": 11
  },
  {
   "metadata": {
    "ExecuteTime": {
     "end_time": "2025-04-25T05:42:11.934535Z",
     "start_time": "2025-04-25T05:42:11.929401Z"
    }
   },
   "cell_type": "code",
   "source": [
    "theta_combine = serialize(t1, t2)\n",
    "# th1, th2 = deserialized(theta_combine, X_raw.shape[1], t1.shape[0], 10)\n",
    "th1, th2 = deserialized(theta_combine)\n",
    "theta_combine.shape, th1.shape, th2.shape\n"
   ],
   "id": "9b25f14411ecbec4",
   "outputs": [
    {
     "data": {
      "text/plain": [
       "((10285,), (25, 401), (10, 26))"
      ]
     },
     "execution_count": 12,
     "metadata": {},
     "output_type": "execute_result"
    }
   ],
   "execution_count": 12
  },
  {
   "metadata": {
    "ExecuteTime": {
     "end_time": "2025-04-25T05:42:11.992442Z",
     "start_time": "2025-04-25T05:42:11.988898Z"
    }
   },
   "cell_type": "code",
   "source": [
    "def forward_propagation(X, theta, input_size=400, hidden_size=25, label_size=10):\n",
    "\n",
    "    theta1, theta2 = deserialized(theta, input_size, hidden_size, label_size)\n",
    "    m = X.shape[0]\n",
    "\n",
    "    a1 = np.insert(X, 0, values=np.ones(m), axis=1)\n",
    "\n",
    "    z2 = a1 @ theta1.T\n",
    "    a2 = np.insert(sigmoid(z2), 0, values=np.ones(m), axis=1)\n",
    "\n",
    "    z3 = a2 @ theta2.T\n",
    "    h = sigmoid(z3)\n",
    "    return a1, z2, a2, z3, h"
   ],
   "id": "bbfa7cbc56692969",
   "outputs": [],
   "execution_count": 13
  },
  {
   "metadata": {
    "ExecuteTime": {
     "end_time": "2025-04-25T05:42:12.030431Z",
     "start_time": "2025-04-25T05:42:12.027955Z"
    }
   },
   "cell_type": "code",
   "source": "# a1, z2, a2, z3, h = forward_propagation(X, theta_combine)",
   "id": "5dfbc41c35d69721",
   "outputs": [],
   "execution_count": 14
  },
  {
   "metadata": {
    "ExecuteTime": {
     "end_time": "2025-04-25T05:42:12.050894Z",
     "start_time": "2025-04-25T05:42:12.047316Z"
    }
   },
   "cell_type": "code",
   "source": "# h   # (5000, 10)",
   "id": "282939bcbeaeb87",
   "outputs": [],
   "execution_count": 15
  },
  {
   "metadata": {
    "ExecuteTime": {
     "end_time": "2025-04-25T05:42:12.070414Z",
     "start_time": "2025-04-25T05:42:12.067535Z"
    }
   },
   "cell_type": "code",
   "source": [
    "# a1.shape, z2.shape, a2.shape, z3.shape\n",
    "# # (5000, 401), (5000, 25), (5000, 26), (5000, 10)"
   ],
   "id": "4af1c65f4b63b5aa",
   "outputs": [],
   "execution_count": 16
  },
  {
   "metadata": {},
   "cell_type": "markdown",
   "source": "## Cost Function",
   "id": "1c87c4450809d2c6"
  },
  {
   "metadata": {},
   "cell_type": "markdown",
   "source": [
    "$$\n",
    "J(\\theta) = \\frac{1}{m} \\sum_{i=1}^{m} \\sum_{k=1}^{K} \\left[\n",
    "    -y_{k}^{(i)} \\log\\left( h_{\\theta}(x^{(i)})_{k} \\right)\n",
    "    - \\left(1 - y_{k}^{(i)}\\right) \\log\\left(1 - \\left( h_{\\theta}(x^{(i)}) \\right)_{k} \\right)\n",
    "\\right]\n",
    "$$"
   ],
   "id": "c2c7cbe4b13004e3"
  },
  {
   "metadata": {
    "ExecuteTime": {
     "end_time": "2025-04-25T06:34:12.559167Z",
     "start_time": "2025-04-25T06:34:12.555848Z"
    }
   },
   "cell_type": "code",
   "source": [
    "def nn_cost(theta, X, y, input_size=400, hidden_size=25, label_size=10):\n",
    "    h = forward_propagation(X, theta, input_size, hidden_size, label_size)[-1]\n",
    "    # 添加极小值 epsilon 防止 log(0)\n",
    "    epsilon = 1e-10  # 典型值为 1e-10 到 1e-7\n",
    "    h_clipped = np.clip(h, epsilon, 1 - epsilon)\n",
    "\n",
    "    tmp = -y * np.log(h_clipped) - (1-y) * np.log(1-h_clipped)\n",
    "\n",
    "    return tmp.sum() / len(X)"
   ],
   "id": "ba6476c8e5944f6",
   "outputs": [],
   "execution_count": 59
  },
  {
   "metadata": {
    "ExecuteTime": {
     "end_time": "2025-04-25T06:34:14.034060Z",
     "start_time": "2025-04-25T06:34:14.024921Z"
    }
   },
   "cell_type": "code",
   "source": "nn_cost(theta_combine, X, y)",
   "id": "bdead692e3c48aa6",
   "outputs": [
    {
     "data": {
      "text/plain": [
       "np.float64(0.2876291651613189)"
      ]
     },
     "execution_count": 60,
     "metadata": {},
     "output_type": "execute_result"
    }
   ],
   "execution_count": 60
  },
  {
   "metadata": {},
   "cell_type": "markdown",
   "source": "## Regularized cost function",
   "id": "2aec8f5e3a2be9df"
  },
  {
   "metadata": {},
   "cell_type": "markdown",
   "source": [
    "$$\n",
    "J(\\theta) =\n",
    "\\frac{1}{m} \\sum_{i=1}^{m} \\sum_{k=1}^{K} \\left[\n",
    "    -y_{k}^{(i)} \\log\\left( h_{\\theta}(x^{(i)})_{k} \\right)\n",
    "    - \\left(1 - y_{k}^{(i)}\\right) \\log\\left(1 - h_{\\theta}(x^{(i)})_{k} \\right)\n",
    "\\right] $$ $$ + \\frac{\\lambda}{2m} \\left[ \\sum_{j=1}^{25} \\sum_{k=1}^{400} \\left( \\Theta^{(1)}_{j,k} \\right)^2 + \\frac{25}{2m} \\sum_{j=1}^{10} \\sum_{k=1}^{25} \\left( \\Theta^{(2)}_{j,k} \\right)^2 \\right]\n",
    "$$"
   ],
   "id": "2320a3a48322883e"
  },
  {
   "metadata": {
    "ExecuteTime": {
     "end_time": "2025-04-25T05:42:12.158486Z",
     "start_time": "2025-04-25T05:42:12.154061Z"
    }
   },
   "cell_type": "code",
   "source": [
    "def nn_cost_reg(theta, X, y, input_size=400, hidden_size=25, label_size=10, lambda_=1):\n",
    "    theta1, theta2 = deserialized(theta, input_size, hidden_size, label_size)\n",
    "    reg = np.sum(theta1[:, 1:] ** 2) + np.sum(theta2[:, 1:] ** 2)\n",
    "    return nn_cost(theta, X, y, input_size, hidden_size, label_size) + lambda_ * reg / (2 * len(X))"
   ],
   "id": "1ef8097a62ee98a",
   "outputs": [],
   "execution_count": 19
  },
  {
   "metadata": {
    "ExecuteTime": {
     "end_time": "2025-04-25T05:42:12.208144Z",
     "start_time": "2025-04-25T05:42:12.195639Z"
    }
   },
   "cell_type": "code",
   "source": "nn_cost_reg(theta_combine, X, y)",
   "id": "b31b8fe0101eaf4e",
   "outputs": [
    {
     "data": {
      "text/plain": [
       "np.float64(0.38376985909092365)"
      ]
     },
     "execution_count": 20,
     "metadata": {},
     "output_type": "execute_result"
    }
   ],
   "execution_count": 20
  },
  {
   "metadata": {},
   "cell_type": "markdown",
   "source": "## Backpropagation",
   "id": "b2087c86d105003b"
  },
  {
   "metadata": {},
   "cell_type": "markdown",
   "source": "Backpropagation is a gradient estimation method comminly used for trainning a NN to compute its _**parameter updates**_",
   "id": "58e769948819135a"
  },
  {
   "metadata": {},
   "cell_type": "markdown",
   "source": [
    "### Sigmoid gradient\n",
    "\n",
    "$$\n",
    "g^{'}(z) = \\frac{d}{dz}g(z)=g(z)(1-g(z))\n",
    "$$\n",
    "\n",
    "For large values (both positive and negative) of z, the gradient should be close to 0;\n",
    "\n",
    "When z = 0, the gradient should be exactly 0.25."
   ],
   "id": "dce9a3275711aef0"
  },
  {
   "metadata": {
    "ExecuteTime": {
     "end_time": "2025-04-25T05:42:12.255119Z",
     "start_time": "2025-04-25T05:42:12.251701Z"
    }
   },
   "cell_type": "code",
   "source": [
    "def sigmoid_gradient(z):\n",
    "    return sigmoid(z) * (1 - sigmoid(z))"
   ],
   "id": "8568c87608c08426",
   "outputs": [],
   "execution_count": 21
  },
  {
   "metadata": {
    "ExecuteTime": {
     "end_time": "2025-04-25T05:42:12.294505Z",
     "start_time": "2025-04-25T05:42:12.288697Z"
    }
   },
   "cell_type": "code",
   "source": "sigmoid_gradient(0)",
   "id": "a4af834f0038e3fa",
   "outputs": [
    {
     "data": {
      "text/plain": [
       "np.float64(0.25)"
      ]
     },
     "execution_count": 22,
     "metadata": {},
     "output_type": "execute_result"
    }
   ],
   "execution_count": 22
  },
  {
   "metadata": {},
   "cell_type": "markdown",
   "source": [
    "### Backpropogation\n",
    "\n",
    "<img src=\"img_1.png\" style=\"margin:auto\">\n",
    "\n",
    "反向传播参数更新计算将减少训练数据上的误差。\n"
   ],
   "id": "b50a1d3fc9675c70"
  },
  {
   "metadata": {},
   "cell_type": "markdown",
   "source": [
    "权重梯度计算步骤\n",
    "$$\n",
    "\\Delta^{(l)} := \\Delta^{(l)} + \\delta^{(l+1)} \\left( a^{(l)} \\right)^T\n",
    "$$\n",
    "\n",
    "反向传播完整步骤（简版）\n",
    "1. 计算输出层误差：\n",
    "$$\n",
    "\\delta^{(L)} = a^{(L)} - y\n",
    "$$\n",
    "\n",
    "2. 反向传播至隐藏层：\n",
    "$$\n",
    "\\delta^{(l)} = \\left( \\Theta^{(l)} \\right)^T \\delta^{(l+1)} \\odot g'\\left( z^{(l)} \\right)\n",
    "$$\n",
    "\n",
    "3. 累积权重梯度：\n",
    "$$\n",
    "\\Delta^{(l)} := \\Delta^{(l)} + \\delta^{(l+1)} \\left( a^{(l)} \\right)^T\n",
    "$$\n",
    "\n",
    "4. 最终梯度（含正则化项）：\n",
    "$$\n",
    "\\frac{\\partial J}{\\partial \\Theta^{(l)}} = \\frac{1}{m} \\Delta^{(l)} + \\frac{\\lambda}{m} \\Theta^{(l)}\n",
    "$$"
   ],
   "id": "3e5031094ffecd1f"
  },
  {
   "metadata": {
    "ExecuteTime": {
     "end_time": "2025-04-25T05:42:12.345542Z",
     "start_time": "2025-04-25T05:42:12.339148Z"
    }
   },
   "cell_type": "code",
   "source": [
    "def gradient(theta, X, y, input_size=400, hidden_size=25, label_size=10):\n",
    "\n",
    "    theta1, theta2 = deserialized(theta, input_size, hidden_size, label_size)\n",
    "    a1, z2, a2, z3, h = forward_propagation(X, theta, input_size, hidden_size, label_size)\n",
    "\n",
    "    # 向量化，全矩阵计算\n",
    "\n",
    "    # 计算输出层误差\n",
    "    d3 = h - y\n",
    "\n",
    "    # 反向传播至隐藏层\n",
    "    d2 = d3 @ theta2[:, 1:] * sigmoid_gradient(z2)  # (5000, 10) @ (10, 25) * (5000, 25)\n",
    "\n",
    "    # 显式归一化\n",
    "    delta2 = (d3.T @ a2) / len(X)\n",
    "    delta1 = (d2.T @ a1) / len(X)\n",
    "    return serialize(delta1, delta2)"
   ],
   "id": "b3d1607926b66344",
   "outputs": [],
   "execution_count": 23
  },
  {
   "metadata": {
    "ExecuteTime": {
     "end_time": "2025-04-25T05:42:12.383612Z",
     "start_time": "2025-04-25T05:42:12.379863Z"
    }
   },
   "cell_type": "code",
   "source": [
    "# detal_ = gradient(theta_combine,X, y)\n",
    "# detal_.shape"
   ],
   "id": "dfd439eabfa40373",
   "outputs": [],
   "execution_count": 24
  },
  {
   "metadata": {},
   "cell_type": "markdown",
   "source": "####  正则梯度",
   "id": "85e6c296601c10b0"
  },
  {
   "metadata": {
    "ExecuteTime": {
     "end_time": "2025-04-25T06:31:00.118562Z",
     "start_time": "2025-04-25T06:31:00.114454Z"
    }
   },
   "cell_type": "code",
   "source": [
    "def gradient_reg(theta, X, y, input_size=400, hidden_size=25, label_size=10, lambda_=1):\n",
    "    theta1, theta2 = deserialized(theta, input_size, hidden_size, label_size)\n",
    "    delta1, delta2 = deserialized(gradient(theta, X, y), input_size, hidden_size, label_size)\n",
    "\n",
    "    m = len(X)\n",
    "\n",
    "    # 已经在计算梯度的时候缩放过了\n",
    "    # delta1 *= 1 / m\n",
    "    # delta2 *= 1 / m\n",
    "\n",
    "    delta1[:, 1:] += lambda_ * theta1[:, 1:] / m\n",
    "    delta2[:, 1:] += lambda_ * theta2[:, 1:] / m\n",
    "    return serialize(delta1, delta2)"
   ],
   "id": "6e6c86c3357f6e1e",
   "outputs": [],
   "execution_count": 55
  },
  {
   "metadata": {
    "ExecuteTime": {
     "end_time": "2025-04-25T05:42:12.422417Z",
     "start_time": "2025-04-25T05:42:12.419514Z"
    }
   },
   "cell_type": "code",
   "source": [
    "# Delta1, Delta2 = deserialized(gradient_reg(theta_combine, X, y))\n",
    "# Delta1.shape, Delta2.shape"
   ],
   "id": "5a0c72dca8d72930",
   "outputs": [],
   "execution_count": 26
  },
  {
   "metadata": {},
   "cell_type": "markdown",
   "source": "### Gradient checking",
   "id": "77810d10cce2078d"
  },
  {
   "metadata": {},
   "cell_type": "markdown",
   "source": [
    "在你的神经网络中，你正在最小化cost function $J(\\Theta)$. 为了在你的参数上运行gradient checking，你要想象一个展开的参数$\\Theta^{(1)},\\Theta^{(2)}$，到一个长向量$\\theta$中。\n",
    "\n",
    "参数扰动定义  $\\epsilon = 10^{-4}$\n",
    "$$\n",
    "\\theta^{(i+)} = \\theta + \\epsilon \\mathbf{e}_i, \\quad\n",
    "\\theta^{(i-)} = \\theta - \\epsilon \\mathbf{e}_i\n",
    "$$\n",
    "其中 $\\mathbf{e}_i$ 是标准基向量：\n",
    "$$\n",
    "\\mathbf{e}_i = \\begin{bmatrix} 0 \\\\ \\vdots \\\\ 1 \\\\ \\vdots \\\\ 0 \\end{bmatrix} \\quad (\\text{第}i\\text{个元素为1})\n",
    "$$\n",
    "\n",
    "数值梯度计算\n",
    "$$\n",
    "f_i(\\theta) \\approx \\frac{\\partial J(\\theta)}{\\partial \\theta_i} \\approx \\frac{J(\\theta^{(i+)}) - J(\\theta^{(i-)})}{2\\epsilon}\n",
    "$$"
   ],
   "id": "f75acfcd6ce700ef"
  },
  {
   "metadata": {
    "ExecuteTime": {
     "end_time": "2025-04-25T05:42:12.448819Z",
     "start_time": "2025-04-25T05:42:12.443622Z"
    }
   },
   "cell_type": "code",
   "source": [
    "def gradient_check(theta, X, y, input_size=400, hidden_size=25, label_size=10,\n",
    "                   epsilon=1e-4, regularized=False, lambda_=1):\n",
    "    def cost_wrapper(theta_wrapper):\n",
    "        return nn_cost_reg(theta_wrapper, X, y,input_size, hidden_size, label_size, lambda_) \\\n",
    "            if regularized else nn_cost(theta_wrapper, X, y,input_size, hidden_size, label_size)\n",
    "    analytic_grad = gradient_reg(theta, X, y,input_size, hidden_size, label_size, lambda_) \\\n",
    "        if regularized else gradient(theta, X, y, input_size, hidden_size, label_size)\n",
    "    numerical_grad = np.zeros_like(theta)\n",
    "\n",
    "    for i in range(len(theta)):\n",
    "        theta_plus = theta.copy()\n",
    "        theta_plus[i] += epsilon\n",
    "        theta_minus = theta.copy()\n",
    "        theta_minus[i] -= epsilon\n",
    "        numerical_grad[i] = (cost_wrapper(theta_plus) - cost_wrapper(theta_minus)) / (2 * epsilon)\n",
    "\n",
    "    diff = (np.linalg.norm(numerical_grad - analytic_grad)\n",
    "            / (np.linalg.norm(numerical_grad + analytic_grad) + 1e-10))\n",
    "    print(f'Relative Difference: {diff}')"
   ],
   "id": "74e738062438f6da",
   "outputs": [],
   "execution_count": 27
  },
  {
   "metadata": {
    "ExecuteTime": {
     "end_time": "2025-04-25T06:03:58.893909Z",
     "start_time": "2025-04-25T06:02:44.364332Z"
    }
   },
   "cell_type": "code",
   "source": "gradient_check(theta_combine, X, y, regularized=False)",
   "id": "e46612ba697384ab",
   "outputs": [
    {
     "name": "stdout",
     "output_type": "stream",
     "text": [
      "Relative Difference: 2.1458659179723567e-09\n"
     ]
    }
   ],
   "execution_count": 42
  },
  {
   "metadata": {
    "ExecuteTime": {
     "end_time": "2025-04-25T06:12:10.373604Z",
     "start_time": "2025-04-25T06:10:53.273066Z"
    }
   },
   "cell_type": "code",
   "source": "gradient_check(theta_combine, X, y, regularized=True)",
   "id": "fe89bb00df40003",
   "outputs": [
    {
     "name": "stdout",
     "output_type": "stream",
     "text": [
      "Relative Difference: 3.1902524789494973e-09\n"
     ]
    }
   ],
   "execution_count": 44
  },
  {
   "metadata": {},
   "cell_type": "markdown",
   "source": [
    "###  Random initialization\n",
    "\n",
    "在训练神经网络时，参数的随机初始化对打破对称性至关重要。一种有效的随机初始化策略是：将参数$\\Theta^{(l)}$的值均匀分布在区间$\\left[-\\epsilon_{init}, +\\epsilon_{init} \\right]$内(建议取$\\epsilon_{init}=0.12$)。此取值范围既能确保参数保持较小值，又能显著提升学习效率。"
   ],
   "id": "1d04d509cedc0435"
  },
  {
   "metadata": {
    "ExecuteTime": {
     "end_time": "2025-04-25T06:22:15.268661Z",
     "start_time": "2025-04-25T06:22:15.265023Z"
    }
   },
   "cell_type": "code",
   "source": [
    "def random_init(size, epsilon=0.12):\n",
    "    '''\n",
    "    生成范围在[-epsilon, epsilon]的均匀分布随机数组。\n",
    "    :param size:\n",
    "    :param epsilon:\n",
    "    :return:\n",
    "    '''\n",
    "    return np.random.uniform(-epsilon, epsilon, size)"
   ],
   "id": "b759b3019a8db8c3",
   "outputs": [],
   "execution_count": 46
  },
  {
   "metadata": {
    "ExecuteTime": {
     "end_time": "2025-04-25T06:34:43.985234Z",
     "start_time": "2025-04-25T06:34:43.981550Z"
    }
   },
   "cell_type": "code",
   "source": [
    "import scipy.optimize as opt\n",
    "\n",
    "def nn_training(theta, X, y):\n",
    "    init_theta = random_init(len(theta))\n",
    "\n",
    "    res = opt.minimize(fun=nn_cost_reg, x0 = init_theta,\n",
    "                      args=(X, y, 400, 25, 10, 1), method='TNC',\n",
    "                      jac=gradient_reg)\n",
    "    return res"
   ],
   "id": "90ca6ca9d49963f0",
   "outputs": [],
   "execution_count": 63
  },
  {
   "metadata": {
    "ExecuteTime": {
     "end_time": "2025-04-25T06:34:43.960701Z",
     "start_time": "2025-04-25T06:34:20.897442Z"
    }
   },
   "cell_type": "code",
   "source": [
    "res = nn_training(theta_combine, X, y) # 慢\n",
    "res"
   ],
   "id": "34f75df6600d8663",
   "outputs": [
    {
     "name": "stdout",
     "output_type": "stream",
     "text": [
      "(10285,)\n"
     ]
    },
    {
     "data": {
      "text/plain": [
       " message: Converged (|f_n-f_(n-1)| ~= 0)\n",
       " success: True\n",
       "  status: 1\n",
       "     fun: 0.29974065435209646\n",
       "       x: [ 1.607e-01  3.764e-12 ... -2.252e+00 -1.433e+00]\n",
       "     nit: 90\n",
       "     jac: [ 1.019e-06  7.528e-16 ... -2.367e-08 -1.078e-07]\n",
       "    nfev: 2175"
      ]
     },
     "execution_count": 62,
     "metadata": {},
     "output_type": "execute_result"
    }
   ],
   "execution_count": 62
  },
  {
   "metadata": {
    "ExecuteTime": {
     "end_time": "2025-04-25T06:35:14.353427Z",
     "start_time": "2025-04-25T06:35:14.349473Z"
    }
   },
   "cell_type": "code",
   "source": [
    "final_theta = res.x\n",
    "final_theta"
   ],
   "id": "7a82d5775e9a686c",
   "outputs": [
    {
     "data": {
      "text/plain": [
       "array([ 1.60726745e-01,  3.76375320e-12,  5.52016766e-12, ...,\n",
       "       -9.77459665e-02, -2.25236159e+00, -1.43335127e+00])"
      ]
     },
     "execution_count": 64,
     "metadata": {},
     "output_type": "execute_result"
    }
   ],
   "execution_count": 64
  },
  {
   "metadata": {
    "ExecuteTime": {
     "end_time": "2025-04-25T06:36:15.114090Z",
     "start_time": "2025-04-25T06:36:15.045401Z"
    }
   },
   "cell_type": "code",
   "source": [
    "from sklearn.metrics import classification_report\n",
    "\n",
    "h = forward_propagation(X, theta_combine)[-1]\n",
    "y_pred = np.argmax(h, axis=1) + 1\n",
    "print(classification_report(y_raw, y_pred))\n"
   ],
   "id": "26895ce379a8c31",
   "outputs": [
    {
     "name": "stdout",
     "output_type": "stream",
     "text": [
      "              precision    recall  f1-score   support\n",
      "\n",
      "           1       0.97      0.98      0.98       500\n",
      "           2       0.98      0.97      0.98       500\n",
      "           3       0.98      0.96      0.97       500\n",
      "           4       0.97      0.97      0.97       500\n",
      "           5       0.97      0.98      0.98       500\n",
      "           6       0.98      0.99      0.98       500\n",
      "           7       0.98      0.97      0.97       500\n",
      "           8       0.98      0.98      0.98       500\n",
      "           9       0.97      0.96      0.96       500\n",
      "          10       0.98      0.99      0.99       500\n",
      "\n",
      "    accuracy                           0.98      5000\n",
      "   macro avg       0.98      0.98      0.98      5000\n",
      "weighted avg       0.98      0.98      0.98      5000\n",
      "\n"
     ]
    }
   ],
   "execution_count": 65
  },
  {
   "metadata": {},
   "cell_type": "markdown",
   "source": "## Visualizing the hidden layer",
   "id": "f378f117521e9b1a"
  },
  {
   "metadata": {},
   "cell_type": "markdown",
   "source": "",
   "id": "8145b64b8343aef8"
  },
  {
   "metadata": {
    "ExecuteTime": {
     "end_time": "2025-04-25T06:39:22.704162Z",
     "start_time": "2025-04-25T06:39:22.699989Z"
    }
   },
   "cell_type": "code",
   "source": [
    "def plot_hidden_layer(theta):\n",
    "    theta1, theta2 = deserialized(theta)\n",
    "\n",
    "    row,col = 5, 5\n",
    "\n",
    "    hidden_layer = theta1[:, 1:]\n",
    "    fig, ax_array = plt.subplots(nrows=row, ncols=col, sharey=True, sharex=True, figsize=(5,5))\n",
    "    for r in range(row):\n",
    "        for c in range(col):\n",
    "            ax_array[r, c].matshow(hidden_layer[5*r+c].reshape((20,20)),\n",
    "                                  cmap='binary')\n",
    "            plt.xticks(np.array([]))\n",
    "            plt.yticks(np.array([]))\n",
    "    plt.show()"
   ],
   "id": "d9288f675a69a8ce",
   "outputs": [],
   "execution_count": 66
  },
  {
   "metadata": {
    "ExecuteTime": {
     "end_time": "2025-04-25T06:39:26.463106Z",
     "start_time": "2025-04-25T06:39:25.917900Z"
    }
   },
   "cell_type": "code",
   "source": "plot_hidden_layer(final_theta)",
   "id": "6dc827e36141af9f",
   "outputs": [
    {
     "data": {
      "text/plain": [
       "<Figure size 500x500 with 25 Axes>"
      ],
      "image/png": "[encoded data removed]"
     },
     "metadata": {},
     "output_type": "display_data"
    }
   ],
   "execution_count": 67
  }
 ],
 "metadata": {
  "kernelspec": {
   "display_name": "Python 3",
   "language": "python",
   "name": "python3"
  },
  "language_info": {
   "codemirror_mode": {
    "name": "ipython",
    "version": 2
   },
   "file_extension": ".py",
   "mimetype": "text/x-python",
   "name": "python",
   "nbconvert_exporter": "python",
   "pygments_lexer": "ipython2",
   "version": "2.7.6"
  }
 },
 "nbformat": 4,
 "nbformat_minor": 5
}
